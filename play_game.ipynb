{
 "cells": [
  {
   "cell_type": "code",
   "execution_count": 1,
   "id": "a2c2f596",
   "metadata": {},
   "outputs": [
    {
     "name": "stderr",
     "output_type": "stream",
     "text": [
      "WARNING:absl:No GPU/TPU found, falling back to CPU. (Set TF_CPP_MIN_LOG_LEVEL=0 and rerun for more info.)\n"
     ]
    },
    {
     "data": {
      "text/html": [
       "\n",
       "<style>\n",
       ".box_style{\n",
       "    width: auto;\n",
       "    #border : 2px solid red;\n",
       "    #height: auto;\n",
       "    background-color:black;\n",
       "}\n",
       ".red_font{\n",
       "    font-size:60px;\n",
       "    color:rgb(221,1,0);\n",
       "}\n",
       ".blue_font{\n",
       "    font-size:60px;\n",
       "    color:rgb(34,80,149);\n",
       "}\n",
       ".red_font_small{\n",
       "    font-size:32px;\n",
       "    color:rgb(221,1,0);\n",
       "}\n",
       ".blue_font_small{\n",
       "    font-size:32px;\n",
       "    color:rgb(34,80,149);\n",
       "}\n",
       ".X_font{\n",
       "    font-size:125px;\n",
       "    text-align:right;\n",
       "    color: black;\n",
       "}\n",
       "# .X_font{\n",
       "#     font-size:180px;\n",
       "#     text-align:right;\n",
       "#     color:black;\n",
       "#     font-family: \"Lucida Console\";#, Arial;#\"Lucida Console\", \"Courier New\";\n",
       "#     font-stretch: ultra-expanded;\n",
       "#     #border: solid black\n",
       "#     position: relative;\n",
       "#     width: 20px;\n",
       "#     height: 20px;\n",
       "#     left: 0px;\n",
       "#     top: 0px;\n",
       "# }\n",
       ".label_font{\n",
       "    font-size:32px;\n",
       "    color:rgb(250,201,1);\n",
       "    text-align:center;\n",
       "}\n",
       ".button_font{\n",
       "    font-size:16px;\n",
       "    color:black;\n",
       "    text-align:center;\n",
       "}\n",
       ".message_style{\n",
       "    font-size:32px;\n",
       "    color:rgb(221,1,0);\n",
       "    text-align:center;\n",
       "}\n",
       ".detailed_message_style{\n",
       "    font-size:16px;\n",
       "    color:rgb(221,1,0);\n",
       "    text-align:center;\n",
       "}\n",
       "</style>"
      ],
      "text/plain": [
       "<IPython.core.display.HTML object>"
      ]
     },
     "metadata": {},
     "output_type": "display_data"
    }
   ],
   "source": [
    "import os\n",
    "import sys\n",
    "module_path = os.path.abspath(os.path.join('/Users/aronjansen/Dropbox/ML/projects/Ur'))\n",
    "if module_path not in sys.path:\n",
    "    sys.path.append(module_path)\n",
    "import play\n",
    "import pickle\n",
    "best_params = pickle.load(open(os.path.join('parameters', 'best' + '.pkl'), \"rb\"))\n",
    "\n",
    "from IPython.display import HTML, display\n",
    "display(HTML(play.style_string))"
   ]
  },
  {
   "cell_type": "code",
   "execution_count": 2,
   "id": "53d4fc12",
   "metadata": {},
   "outputs": [
    {
     "data": {
      "application/vnd.jupyter.widget-view+json": {
       "model_id": "13c91b14e8ca41ad91b17cec14062b74",
       "version_major": 2,
       "version_minor": 0
      },
      "text/plain": [
       "VBox(children=(GridspecLayout(children=(Label(value='start', layout=Layout(grid_area='widget001', height='auto…"
      ]
     },
     "metadata": {},
     "output_type": "display_data"
    }
   ],
   "source": [
    "test = play.InteractiveGame(best_params)\n",
    "test.game_interface"
   ]
  }
 ],
 "metadata": {
  "kernelspec": {
   "display_name": "DL_general",
   "language": "python",
   "name": "dl_general"
  },
  "language_info": {
   "codemirror_mode": {
    "name": "ipython",
    "version": 3
   },
   "file_extension": ".py",
   "mimetype": "text/x-python",
   "name": "python",
   "nbconvert_exporter": "python",
   "pygments_lexer": "ipython3",
   "version": "3.7.10"
  }
 },
 "nbformat": 4,
 "nbformat_minor": 5
}
