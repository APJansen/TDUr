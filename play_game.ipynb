{
 "cells": [
  {
   "cell_type": "code",
   "execution_count": 1,
   "id": "c547af13",
   "metadata": {},
   "outputs": [
    {
     "name": "stderr",
     "output_type": "stream",
     "text": [
      "WARNING:absl:No GPU/TPU found, falling back to CPU. (Set TF_CPP_MIN_LOG_LEVEL=0 and rerun for more info.)\n"
     ]
    }
   ],
   "source": [
    "import os\n",
    "import sys\n",
    "module_path = os.path.abspath(os.path.join('/Users/aronjansen/Dropbox/ML/projects/Ur'))\n",
    "if module_path not in sys.path:\n",
    "    sys.path.append(module_path)\n",
    "import play\n",
    "import pickle\n",
    "best_params = pickle.load(open(os.path.join('parameters', 'best' + '.pkl'), \"rb\"))\n",
    "\n",
    "from IPython.display import HTML, display\n",
    "display(HTML(play.style_string))"
   ]
  },
  {
   "cell_type": "code",
   "execution_count": 3,
   "id": "f00e298d",
   "metadata": {},
   "outputs": [],
   "source": [
    "test = play.InteractiveGame(best_params)\n",
    "test.game_interface"
   ]
  }
 ],
 "metadata": {
  "kernelspec": {
   "display_name": "DL_general",
   "language": "python",
   "name": "dl_general"
  },
  "language_info": {
   "codemirror_mode": {
    "name": "ipython",
    "version": 3
   },
   "file_extension": ".py",
   "mimetype": "text/x-python",
   "name": "python",
   "nbconvert_exporter": "python",
   "pygments_lexer": "ipython3",
   "version": "3.7.10"
  }
 },
 "nbformat": 4,
 "nbformat_minor": 5
}
