{
 "cells": [
  {
   "cell_type": "code",
   "execution_count": 1,
   "id": "0d609b12",
   "metadata": {},
   "outputs": [
    {
     "name": "stderr",
     "output_type": "stream",
     "text": [
      "WARNING:absl:No GPU/TPU found, falling back to CPU. (Set TF_CPP_MIN_LOG_LEVEL=0 and rerun for more info.)\n"
     ]
    },
    {
     "data": {
      "text/html": [
       "\n",
       "<style>\n",
       ".box_style{\n",
       "    width: auto;\n",
       "    #border : 2px solid red;\n",
       "    #height: auto;\n",
       "    background-color:black;\n",
       "}\n",
       ".red_font{\n",
       "    font-size:60px;\n",
       "    color:rgb(221,1,0);\n",
       "}\n",
       ".blue_font{\n",
       "    font-size:60px;\n",
       "    color:rgb(34,80,149);\n",
       "}\n",
       ".red_font_small{\n",
       "    font-size:32px;\n",
       "    color:rgb(221,1,0);\n",
       "}\n",
       ".blue_font_small{\n",
       "    font-size:32px;\n",
       "    color:rgb(34,80,149);\n",
       "}\n",
       ".rosette_style {\n",
       "  --size: 80px;\n",
       "  --line-width: calc(var(--size) / 10);\n",
       "  --line-horizontal: calc(var(--size) * 6/10);\n",
       "  --line-vertical: calc(var(--size) * 2/10);\n",
       "  width: var(--size);\n",
       "  height: var(--size);\n",
       "  position: relative;\n",
       "\n",
       "}\n",
       ".rosette_style::before,\n",
       ".rosette_style::after {\n",
       "  position: absolute;\n",
       "  content: \"\";\n",
       "  background: black;\n",
       "}\n",
       "\n",
       ".rosette_style::before {\n",
       "  left: 0;\n",
       "  bottom: var(--line-horizontal);\n",
       "  width: 100%;\n",
       "  height: var(--line-width);\n",
       "}\n",
       "\n",
       ".rosette_style::after {\n",
       "  right: var(--line-vertical);\n",
       "  top: 0;\n",
       "  height: 100%;\n",
       "  width: var(--line-width);\n",
       "}\n",
       ".label_font{\n",
       "    font-size:32px;\n",
       "    color:rgb(250,201,1);\n",
       "    text-align:center;\n",
       "}\n",
       ".button_font{\n",
       "    font-size:16px;\n",
       "    color:black;\n",
       "    text-align:center;\n",
       "}\n",
       ".message_style{\n",
       "    font-size:32px;\n",
       "    color:rgb(221,1,0);\n",
       "    text-align:center;\n",
       "}\n",
       ".detailed_message_style{\n",
       "    font-size:16px;\n",
       "    color:rgb(221,1,0);\n",
       "    text-align:center;\n",
       "}\n",
       "</style>"
      ],
      "text/plain": [
       "<IPython.core.display.HTML object>"
      ]
     },
     "metadata": {},
     "output_type": "display_data"
    }
   ],
   "source": [
    "import os\n",
    "import sys\n",
    "module_path = os.path.abspath(os.path.join('/Users/aronjansen/Dropbox/ML/projects/Ur'))\n",
    "if module_path not in sys.path:\n",
    "    sys.path.append(module_path)\n",
    "import play\n",
    "import pickle\n",
    "best_params = pickle.load(open(os.path.join('parameters', 'best' + '.pkl'), \"rb\"))\n",
    "\n",
    "from IPython.display import HTML, display\n",
    "display(HTML(play.style_string))"
   ]
  },
  {
   "cell_type": "code",
   "execution_count": 2,
   "id": "2e965a00",
   "metadata": {},
   "outputs": [
    {
     "data": {
      "application/vnd.jupyter.widget-view+json": {
       "model_id": "70861e7350974f209b56f82dec1303ac",
       "version_major": 2,
       "version_minor": 0
      },
      "text/plain": [
       "VBox(children=(GridspecLayout(children=(Label(value='start', layout=Layout(grid_area='widget001', height='auto…"
      ]
     },
     "metadata": {},
     "output_type": "display_data"
    }
   ],
   "source": [
    "test = play.InteractiveGame(best_params)\n",
    "test.game_interface"
   ]
  }
 ],
 "metadata": {
  "kernelspec": {
   "display_name": "DL_general",
   "language": "python",
   "name": "dl_general"
  },
  "language_info": {
   "codemirror_mode": {
    "name": "ipython",
    "version": 3
   },
   "file_extension": ".py",
   "mimetype": "text/x-python",
   "name": "python",
   "nbconvert_exporter": "python",
   "pygments_lexer": "ipython3",
   "version": "3.7.10"
  }
 },
 "nbformat": 4,
 "nbformat_minor": 5
}
