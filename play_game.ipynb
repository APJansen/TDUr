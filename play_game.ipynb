{
 "cells": [
  {
   "cell_type": "code",
   "execution_count": 2,
   "id": "0d609b12",
   "metadata": {},
   "outputs": [],
   "source": [
    "import os\n",
    "import sys\n",
    "module_path = os.path.abspath(os.path.join('/Users/aronjansen/Dropbox/ML/projects/Ur'))\n",
    "if module_path not in sys.path:\n",
    "    sys.path.append(module_path)\n",
    "import play\n",
    "import pickle\n",
    "best_params = pickle.load(open(os.path.join('parameters', 'best' + '.pkl'), \"rb\"))\n",
    "\n",
    "def compose_name(N, learning_rate, epsilon, lmbda, lr_decay, search_plies=1):\n",
    "    name = f'N{N:d}'\n",
    "    name += f'-alpha{learning_rate:.3f}'\n",
    "    name += f'-lambda{lmbda:.2f}'\n",
    "    name += f'-epsilon{epsilon:.5f}'\n",
    "    name += f'-dalpha{lr_decay:.6f}'\n",
    "    if search_plies > 1:\n",
    "        name += f'-plies{search_plies}'\n",
    "    return name\n",
    "\n",
    "def load_params_2(name, directory='parameters'):\n",
    "    return pickle.load(open(os.path.join(directory, name + '.pkl'), \"rb\"))\n",
    "\n",
    "\n",
    "def load_params(Nhidden, alpha, lmbda, epsilon, episode, directory='parameters', alpha_decay=1, search_plies=1):\n",
    "    name = compose_name(Nhidden, alpha, epsilon, lmbda, alpha_decay, search_plies=search_plies) + f'-episodes{episode}'\n",
    "    return load_params_2(name, directory)\n",
    "\n",
    "#new_params = load_params(40, 0.001, 0.99, 0.0, 3_000)"
   ]
  },
  {
   "cell_type": "code",
   "execution_count": 3,
   "id": "2e965a00",
   "metadata": {},
   "outputs": [
    {
     "data": {
      "text/html": [
       "\n",
       "<style>\n",
       ".box_style{\n",
       "    width: auto;\n",
       "    #border : 2px solid red;\n",
       "    #height: auto;\n",
       "    background-color:black;\n",
       "}\n",
       ".red_font{\n",
       "    font-size:60px;\n",
       "    color:rgb(221,1,0);\n",
       "}\n",
       ".blue_font{\n",
       "    font-size:60px;\n",
       "    color:rgb(34,80,149);\n",
       "}\n",
       ".red_font_small{\n",
       "    font-size:32px;\n",
       "    color:rgb(221,1,0);\n",
       "}\n",
       ".blue_font_small{\n",
       "    font-size:32px;\n",
       "    color:rgb(34,80,149);\n",
       "}\n",
       ".rosette_style {\n",
       "  --size: 80px;\n",
       "  --line-width: calc(var(--size) / 10);\n",
       "  --line-horizontal: calc(var(--size) * 3/10);\n",
       "  --line-vertical: calc(var(--size) * 5.5/10);\n",
       "  width: var(--size);\n",
       "  height: var(--size);\n",
       "  position: relative;\n",
       "\n",
       "}\n",
       ".rosette_style::before,\n",
       ".rosette_style::after {\n",
       "  position: absolute;\n",
       "  content: \"\";\n",
       "  background: black;\n",
       "}\n",
       "\n",
       ".rosette_style::before {\n",
       "  left: 0;\n",
       "  bottom: var(--line-horizontal);\n",
       "  width: 100%;\n",
       "  height: var(--line-width);\n",
       "}\n",
       "\n",
       ".rosette_style::after {\n",
       "  right: var(--line-vertical);\n",
       "  top: 0;\n",
       "  height: 100%;\n",
       "  width: var(--line-width);\n",
       "}\n",
       ".label_font{\n",
       "    font-size:32px;\n",
       "    color:rgb(250,201,1);\n",
       "    text-align:center;\n",
       "}\n",
       ".button_font{\n",
       "    font-size:16px;\n",
       "    color:black;\n",
       "    text-align:center;\n",
       "}\n",
       ".message_style{\n",
       "    font-size:32px;\n",
       "    color:rgb(221,1,0);\n",
       "    text-align:center;\n",
       "}\n",
       ".detailed_message_style{\n",
       "    font-size:16px;\n",
       "    color:rgb(221,1,0);\n",
       "    text-align:center;\n",
       "}\n",
       "</style>"
      ],
      "text/plain": [
       "<IPython.core.display.HTML object>"
      ]
     },
     "metadata": {},
     "output_type": "display_data"
    },
    {
     "data": {
      "application/vnd.jupyter.widget-view+json": {
       "model_id": "31a080f31f3d41faaa4b1d4b27707e78",
       "version_major": 2,
       "version_minor": 0
      },
      "text/plain": [
       "VBox(children=(GridspecLayout(children=(Label(value='players', layout=Layout(grid_area='widget001', height='au…"
      ]
     },
     "metadata": {},
     "output_type": "display_data"
    }
   ],
   "source": [
    "playable_game = play.InteractiveGame(best_params)\n",
    "playable_game.play()"
   ]
  },
  {
   "cell_type": "code",
   "execution_count": null,
   "id": "36f08fe9",
   "metadata": {},
   "outputs": [],
   "source": []
  }
 ],
 "metadata": {
  "kernelspec": {
   "display_name": "DL_general",
   "language": "python",
   "name": "dl_general"
  },
  "language_info": {
   "codemirror_mode": {
    "name": "ipython",
    "version": 3
   },
   "file_extension": ".py",
   "mimetype": "text/x-python",
   "name": "python",
   "nbconvert_exporter": "python",
   "pygments_lexer": "ipython3",
   "version": "3.7.10"
  }
 },
 "nbformat": 4,
 "nbformat_minor": 5
}
