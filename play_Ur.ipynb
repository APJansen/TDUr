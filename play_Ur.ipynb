{
 "cells": [
  {
   "cell_type": "markdown",
   "id": "77315067",
   "metadata": {},
   "source": [
    "# The Royal game of Ur, you vs TD-Ur"
   ]
  },
  {
   "cell_type": "markdown",
   "id": "554dee7b",
   "metadata": {},
   "source": [
    "## Load"
   ]
  },
  {
   "cell_type": "code",
   "execution_count": 1,
   "id": "0d609b12",
   "metadata": {},
   "outputs": [
    {
     "name": "stderr",
     "output_type": "stream",
     "text": [
      "WARNING:absl:No GPU/TPU found, falling back to CPU. (Set TF_CPP_MIN_LOG_LEVEL=0 and rerun for more info.)\n"
     ]
    }
   ],
   "source": [
    "import os\n",
    "import sys\n",
    "module_path = os.path.abspath(os.path.join('/Users/aronjansen/Dropbox/ML/projects/Ur'))\n",
    "if module_path not in sys.path:\n",
    "    sys.path.append(module_path)\n",
    "from td_ur import interactive\n",
    "import pickle\n",
    "best_params = pickle.load(open('td_ur/best_parameters.pkl', \"rb\"))\n",
    "playable_game = interactive.InteractiveGame(best_params)"
   ]
  },
  {
   "cell_type": "markdown",
   "id": "9ed5e79d",
   "metadata": {},
   "source": [
    "## Instructions"
   ]
  },
  {
   "cell_type": "markdown",
   "id": "466d91f4",
   "metadata": {},
   "source": [
    "- To play a move, click the square you want to move\n",
    "- To make TD-Ur play its move, click its name, or to make it do this automatically, click auto-play on the bottom left\n",
    "- When you cannot make any moves, pass by clicking 'you'"
   ]
  },
  {
   "cell_type": "code",
   "execution_count": 2,
   "id": "2e965a00",
   "metadata": {},
   "outputs": [
    {
     "data": {
      "text/html": [
       "\n",
       "<style>\n",
       ".box_style{\n",
       "    width: auto;\n",
       "    #border : 2px solid red;\n",
       "    #height: auto;\n",
       "    background-color:black;\n",
       "}\n",
       ".red_font{\n",
       "    font-size:60px;\n",
       "    color:rgb(221,1,0);\n",
       "}\n",
       ".blue_font{\n",
       "    font-size:60px;\n",
       "    color:rgb(34,80,149);\n",
       "}\n",
       ".red_font_small{\n",
       "    font-size:32px;\n",
       "    color:rgb(221,1,0);\n",
       "}\n",
       ".blue_font_small{\n",
       "    font-size:32px;\n",
       "    color:rgb(34,80,149);\n",
       "}\n",
       ".rosette_style {\n",
       "  --size: 80px;\n",
       "  --line-width: calc(var(--size) / 10);\n",
       "  --line-horizontal: calc(var(--size) * 3/10);\n",
       "  --line-vertical: calc(var(--size) * 5.5/10);\n",
       "  width: var(--size);\n",
       "  height: var(--size);\n",
       "  position: relative;\n",
       "\n",
       "}\n",
       ".rosette_style::before,\n",
       ".rosette_style::after {\n",
       "  position: absolute;\n",
       "  content: \"\";\n",
       "  background: black;\n",
       "}\n",
       "\n",
       ".rosette_style::before {\n",
       "  left: 0;\n",
       "  bottom: var(--line-horizontal);\n",
       "  width: 100%;\n",
       "  height: var(--line-width);\n",
       "}\n",
       "\n",
       ".rosette_style::after {\n",
       "  right: var(--line-vertical);\n",
       "  top: 0;\n",
       "  height: 100%;\n",
       "  width: var(--line-width);\n",
       "}\n",
       ".label_font{\n",
       "    font-size:32px;\n",
       "    color:rgb(250,201,1);\n",
       "    text-align:center;\n",
       "}\n",
       ".button_font{\n",
       "    font-size:16px;\n",
       "    color:black;\n",
       "    text-align:center;\n",
       "}\n",
       ".message_style{\n",
       "    font-size:32px;\n",
       "    color:rgb(221,1,0);\n",
       "    text-align:center;\n",
       "}\n",
       ".detailed_message_style{\n",
       "    font-size:16px;\n",
       "    color:rgb(221,1,0);\n",
       "    text-align:center;\n",
       "}\n",
       "</style>"
      ],
      "text/plain": [
       "<IPython.core.display.HTML object>"
      ]
     },
     "metadata": {},
     "output_type": "display_data"
    },
    {
     "data": {
      "application/vnd.jupyter.widget-view+json": {
       "model_id": "6f7a6770b3ab4671aeb3db3c419d79c7",
       "version_major": 2,
       "version_minor": 0
      },
      "text/plain": [
       "VBox(children=(GridspecLayout(children=(Label(value='players', layout=Layout(grid_area='widget001', height='au…"
      ]
     },
     "metadata": {},
     "output_type": "display_data"
    }
   ],
   "source": [
    "playable_game.play()"
   ]
  },
  {
   "cell_type": "code",
   "execution_count": null,
   "id": "cb6d8364",
   "metadata": {},
   "outputs": [],
   "source": []
  }
 ],
 "metadata": {
  "kernelspec": {
   "display_name": "DL_general",
   "language": "python",
   "name": "dl_general"
  },
  "language_info": {
   "codemirror_mode": {
    "name": "ipython",
    "version": 3
   },
   "file_extension": ".py",
   "mimetype": "text/x-python",
   "name": "python",
   "nbconvert_exporter": "python",
   "pygments_lexer": "ipython3",
   "version": "3.7.10"
  }
 },
 "nbformat": 4,
 "nbformat_minor": 5
}
